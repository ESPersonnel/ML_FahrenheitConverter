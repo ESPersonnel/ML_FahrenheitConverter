{
  "nbformat": 4,
  "nbformat_minor": 0,
  "metadata": {
    "colab": {
      "name": "fahrenheit converter.ipynb",
      "provenance": [],
      "authorship_tag": "ABX9TyOlq2YwZeqQ9vNq3nwSiJHe",
      "include_colab_link": true
    },
    "kernelspec": {
      "name": "python3",
      "display_name": "Python 3"
    }
  },
  "cells": [
    {
      "cell_type": "markdown",
      "metadata": {
        "id": "view-in-github",
        "colab_type": "text"
      },
      "source": [
        "<a href=\"https://colab.research.google.com/github/ESPersonnel/ML_FahrenheitConverter/blob/main/fahrenheit_converter.ipynb\" target=\"_parent\"><img src=\"https://colab.research.google.com/assets/colab-badge.svg\" alt=\"Open In Colab\"/></a>"
      ]
    },
    {
      "cell_type": "markdown",
      "metadata": {
        "id": "IbMXyLTPWB-k"
      },
      "source": [
        "# Fahrenheit to Celcius Converter\n",
        "\n",
        "Developer: Wycliffe Ndiba\n",
        "\n",
        "This is a machine learning model that is trained to predict the degree in Celcius of a given Fahrenheit number."
      ]
    },
    {
      "cell_type": "code",
      "metadata": {
        "id": "Gmo8XAAcUMjM"
      },
      "source": [
        "from __future__ import absolute_import, division, print_function, unicode_literals"
      ],
      "execution_count": null,
      "outputs": []
    },
    {
      "cell_type": "code",
      "metadata": {
        "id": "WEBJ-kVYUV5I"
      },
      "source": [
        "try:\n",
        "  %tensorflow_version 2.x\n",
        "except Exception:\n",
        "  pass\n",
        "\n",
        "import tensorflow as tf"
      ],
      "execution_count": null,
      "outputs": []
    },
    {
      "cell_type": "code",
      "metadata": {
        "id": "SaD_H7xwUdRc"
      },
      "source": [
        "import numpy as np\n",
        "import logging\n",
        "\n",
        "logger = tf.get_logger()\n",
        "logger.setLevel(logging.ERROR)"
      ],
      "execution_count": null,
      "outputs": []
    },
    {
      "cell_type": "code",
      "metadata": {
        "id": "iorTDgxxUf7n"
      },
      "source": [
        "Training Data\n",
        "\n",
        "fahrenheit_a = np.array([-40, 14, 32, 46, 59, 72, 100], dtype=float)\n",
        "celsius_q = np.array([-40, -10, 0, 8, 15, 22, 38], dtype=float)\n",
        "\n",
        "for i, c in enumerate(fahrenheit_a):\n",
        "  print(\"Fahrenheit: {} = Celcius: {}\".format(c, celsius_q[i]))"
      ],
      "execution_count": null,
      "outputs": []
    },
    {
      "cell_type": "code",
      "metadata": {
        "id": "e8xpnIatVCEW"
      },
      "source": [
        "# Training the model\n",
        "# Expected result for the test data is a number close to 37.8.\n",
        "\n",
        "l0 = tf.keras.layers.Dense(units=1, input_shape=[1])\n",
        "model = tf.keras.Sequential([l0])\n",
        "model.compile(loss='mean_squared_error', optimizer=tf.keras.optimizers.Adam(0.1))\n",
        "history = model.fit(fahrenheit_a, celsius_q, epochs=1000, verbose = False)\n",
        "model.predict([100.0])"
      ],
      "execution_count": null,
      "outputs": []
    },
    {
      "cell_type": "code",
      "metadata": {
        "id": "C5hodGsxVuv0"
      },
      "source": [
        "# Replace the number with whatever number you need to convert\n",
        "\n",
        "model.predict([77])"
      ],
      "execution_count": null,
      "outputs": []
    },
    {
      "cell_type": "code",
      "metadata": {
        "id": "0D9F7CGZV53I"
      },
      "source": [
        ""
      ],
      "execution_count": null,
      "outputs": []
    }
  ]
}